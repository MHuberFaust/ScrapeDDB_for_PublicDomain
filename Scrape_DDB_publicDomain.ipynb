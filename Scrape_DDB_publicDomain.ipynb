{
 "cells": [
  {
   "cell_type": "markdown",
   "id": "danish-charleston",
   "metadata": {},
   "source": [
    "# Looking for unintended copyfraud via DDB (Deutsche Digitale Bibliothek)"
   ]
  },
  {
   "cell_type": "markdown",
   "id": "sunset-variable",
   "metadata": {},
   "source": [
    "## Prerequisites :\n",
    "\n",
    "* python 3.7 or higher\n",
    "* packages:\n",
    "    * requests\n",
    "    * json\n",
    "    * pandas"
   ]
  },
  {
   "cell_type": "code",
   "execution_count": null,
   "id": "blessed-fitness",
   "metadata": {},
   "outputs": [],
   "source": [
    "import requests\n",
    "import json\n",
    "import pandas as pd"
   ]
  },
  {
   "cell_type": "code",
   "execution_count": null,
   "id": "vertical-cruise",
   "metadata": {},
   "outputs": [],
   "source": [
    "def dumpjson(pathname, benderDict):\n",
    "    with open(pathname+\".json\",\"w\", encoding='utf-8') as jsonfile:\n",
    "        json.dump(benderDict,jsonfile, ensure_ascii=False)\n",
    "        print(\"dumped: \"+pathname+\".json\" )"
   ]
  },
  {
   "cell_type": "markdown",
   "id": "recreational-aside",
   "metadata": {},
   "source": [
    "## To use the API of DDB you need to create an OAuth Access key.\n",
    "How to get it:\n",
    "    - Create an account here: https://www.deutsche-digitale-bibliothek.de/login\n",
    "    - Go to Meine DDB/My DDB -> Account\n",
    "    - Create an Access Token"
   ]
  },
  {
   "cell_type": "code",
   "execution_count": null,
   "id": "cooked-composite",
   "metadata": {},
   "outputs": [],
   "source": [
    "accessToken='<insert access-token here>' #Don't forget the brackets ''"
   ]
  },
  {
   "cell_type": "markdown",
   "id": "chronic-edinburgh",
   "metadata": {},
   "source": [
    "### if you don't have the time to let the script run through...\n",
    "\n",
    "There are json-dumps of each major step. To load the json-files use this:"
   ]
  },
  {
   "cell_type": "code",
   "execution_count": null,
   "id": "numerical-chess",
   "metadata": {},
   "outputs": [],
   "source": [
    "'''with open(\"path_to_json_in_question.json\", \"r\") as jsonfile:\n",
    "    deadauthorList = json.load(jsonfile)\n",
    "    \n",
    "with open(\"path_to_json_in_question.json\", \"r\") as jsonfile:\n",
    "    deadauthorsWorkDict = json.load(jsonfile)'''"
   ]
  },
  {
   "cell_type": "markdown",
   "id": "asian-darkness",
   "metadata": {},
   "source": [
    "## Test Query\n",
    "Should result in an list of json-Objects looking similar to this:\n",
    "\n",
    "{\"id\":\"INLVDM4I3AMZLTG6AE6C5GZRJKGOF75K\",\"name\":\"Badische Landesbibliothek\",\"sector\":\"sec_02\",\"latitude\":\"49.00794\",\"longitude\":\"8.398618\",\"locationDisplayName\":\"Badische Landesbibliothek, 15, Erbprinzenstraße, Innenstadt-West Östlicher Teil, Innenstadt-West, Karlsruhe, Baden-Württemberg, 76133, Deutschland\",\"hasItems\":true,\"numberOfItems\":307236,\"children\":[],\"level\":-1},{\"id\":\"PE423JPDSCU6C72BAC2PUBOHAINDRGFO\",\"name\":\"Bayerische Staatsbibliothek\",\"sector\":\"sec_02\",\"latitude\":\"48.14761\",\"longitude\":\"11.58082\",\"locationDisplayName\":\"Bayerische Staatsbibliothek, 16, Ludwigstraße, Bezirksteil Universität, Stadtbezirk 03 Maxvorstadt, München, Oberbayern, Bayern, 80539, Deutschland\",\"hasItems\":true,\"numberOfItems\":1296223,\"children\":[],\"level\":-1}"
   ]
  },
  {
   "cell_type": "code",
   "execution_count": null,
   "id": "confused-security",
   "metadata": {},
   "outputs": [],
   "source": [
    "params=dict(hasItems=True,sector='sec_02',oauth_consumer_key=accessToken)"
   ]
  },
  {
   "cell_type": "code",
   "execution_count": null,
   "id": "natural-hammer",
   "metadata": {},
   "outputs": [],
   "source": [
    "response = requests.get('https://api.deutsche-digitale-bibliothek.de/institutions', params=params)"
   ]
  },
  {
   "cell_type": "code",
   "execution_count": null,
   "id": "employed-workplace",
   "metadata": {},
   "outputs": [],
   "source": [
    "print(response.status_code)"
   ]
  },
  {
   "cell_type": "code",
   "execution_count": null,
   "id": "nuclear-apache",
   "metadata": {},
   "outputs": [],
   "source": [
    "response.text"
   ]
  },
  {
   "cell_type": "markdown",
   "id": "floating-patent",
   "metadata": {},
   "source": [
    "## Look for Authors who are dead for at least 70 years\n",
    "(might take some time)\n",
    "\n",
    "I could not find , in time, a way to use a condition on the index, so this code iterates over years."
   ]
  },
  {
   "cell_type": "code",
   "execution_count": null,
   "id": "sustained-fabric",
   "metadata": {},
   "outputs": [],
   "source": [
    "deadauthorList=[]\n",
    "params=dict(query='',facet='dateOfDeath_de' ,oauth_consumer_key=accessToken)\n",
    "\n",
    "for dateOfDeath in range(500,2022-70):\n",
    "    params[\"dateOfDeath_de\"]=str(dateOfDeath)\n",
    "    response = requests.get('https://api.deutsche-digitale-bibliothek.de/search/person', params=params)\n",
    "    data = response.json()\n",
    "    #results = data[\"results\"][0][\"docs\"]\n",
    "    for item in data[\"results\"][0][\"docs\"]:\n",
    "        deadauthorList.append(item[\"id\"])\n",
    "    print(dateOfDeath,\" done \", \"number results: \", len(data[\"results\"][0][\"docs\"]))"
   ]
  },
  {
   "cell_type": "code",
   "execution_count": null,
   "id": "charged-request",
   "metadata": {},
   "outputs": [],
   "source": [
    "dumpjson(\"deadauthorlist\", deadauthorList)"
   ]
  },
  {
   "cell_type": "code",
   "execution_count": null,
   "id": "historical-quarter",
   "metadata": {},
   "outputs": [],
   "source": [
    "len(deadauthorList)\n",
    "#08.01.2022 : 169149"
   ]
  },
  {
   "cell_type": "markdown",
   "id": "enhanced-reunion",
   "metadata": {},
   "source": [
    "## Items associated with searched author\n",
    "this search uses the \"affiliate_fct_involved\"-facet. Does not necessarily mean it is the author. Or the only author."
   ]
  },
  {
   "cell_type": "code",
   "execution_count": null,
   "id": "surprising-affect",
   "metadata": {},
   "outputs": [],
   "source": [
    "params=dict(oauth_consumer_key=accessToken)\n",
    "deadauthorsWorkDict = {}\n",
    "for personId in deadauthorList:\n",
    "    params['query'] = 'affiliate_fct_role_normdata:(\"'+personId+'_1_affiliate_fct_involved\")'\n",
    "    response = requests.get('https://api.deutsche-digitale-bibliothek.de/search', params=params)\n",
    "    data = response.json()\n",
    "    #results = data[\"results\"][0][\"docs\"]\n",
    "    print(personId,\" done \", \"number results: \", len(data[\"results\"][0][\"docs\"]))\n",
    "    for item in data[\"results\"][0][\"docs\"]:\n",
    "        workID = item[\"id\"]\n",
    "        deadauthorsWorkDict[workID]=item[\"title\"]\n",
    "        if not response.status_code == 200:\n",
    "            print(response.status_code)\n",
    "    \n",
    "    "
   ]
  },
  {
   "cell_type": "code",
   "execution_count": null,
   "id": "emotional-employer",
   "metadata": {},
   "outputs": [],
   "source": [
    "dumpjson(\"deadauthorsWork\",deadauthorsWorkDict)"
   ]
  },
  {
   "cell_type": "code",
   "execution_count": null,
   "id": "presidential-decline",
   "metadata": {},
   "outputs": [],
   "source": [
    "len(deadauthorsWorkDict)\n",
    "#09.01.2022: 24705"
   ]
  },
  {
   "cell_type": "markdown",
   "id": "damaged-contrast",
   "metadata": {},
   "source": [
    "### Creates dict of works from dead authors\n",
    "There are quite the amount of requests to be made. So this might take more several hours. This was a quick writeup so I just worked around occuring interruptions of the connection. (See next cell)"
   ]
  },
  {
   "cell_type": "code",
   "execution_count": null,
   "id": "white-separate",
   "metadata": {},
   "outputs": [],
   "source": [
    "params=dict(oauth_consumer_key=accessToken)\n",
    "dictTopd ={'origin':[],'label':[],'license':[],'institution':[],'isdigitalisat':[]}\n",
    "for key in deadauthorsWorkDict:\n",
    "    response = requests.get('https://api.deutsche-digitale-bibliothek.de/items/'+key+'/view', params=params)\n",
    "    data = response.json()\n",
    "    label = data[\"item\"][\"label\"]\n",
    "    if not label:\n",
    "        print(key,\"empty label\")\n",
    "    \n",
    "    origin = data[\"item\"][\"origin\"]\n",
    "    if 'license' in data[\"item\"]:\n",
    "        license = str(data[\"item\"][\"license\"])\n",
    "    else:\n",
    "        license = 'no license found'\n",
    "    institution = data[\"item\"][\"institution\"][\"name\"]\n",
    "    if not institution:\n",
    "        print(key,\"empty institution\")\n",
    "        \n",
    "    isdigitalisat = data[\"item\"][\"fields\"][1]\n",
    "    isdigitalisatbool= False\n",
    "    if isdigitalisat[\"@usage\"]=='index':\n",
    "        for fielddict in isdigitalisat[\"field\"]:\n",
    "            if fielddict[\"@id\"]=='digitalisat':\n",
    "                isdigitalisatbool=True\n",
    "    else:\n",
    "        print(\"List[1] not index\")\n",
    "    dictTopd[\"label\"].append(label)    \n",
    "    dictTopd[\"origin\"].append(origin)\n",
    "    dictTopd[\"license\"].append(license)\n",
    "    dictTopd[\"institution\"].append(institution)\n",
    "    dictTopd[\"isdigitalisat\"].append(isdigitalisatbool)\n",
    "    "
   ]
  },
  {
   "cell_type": "code",
   "execution_count": null,
   "id": "available-delicious",
   "metadata": {},
   "outputs": [],
   "source": [
    "lenDictTopd = len(dictTopd[\"license\"])\n",
    "lenDictTopd"
   ]
  },
  {
   "cell_type": "code",
   "execution_count": null,
   "id": "little-hungary",
   "metadata": {},
   "outputs": [],
   "source": [
    "for index, key in enumerate(deadauthorsWorkDict):\n",
    "    if index >= lenDictTopd:\n",
    "            \n",
    "        response = requests.get('https://api.deutsche-digitale-bibliothek.de/items/'+key+'/view', params=params)\n",
    "        data = response.json()\n",
    "        label = data[\"item\"][\"label\"]\n",
    "        if not label:\n",
    "            print(key,\"empty label\")\n",
    "        #print(key,\"     -      \",label)\n",
    "        origin = data[\"item\"][\"origin\"]\n",
    "        if 'license' in data[\"item\"]:\n",
    "            license = str(data[\"item\"][\"license\"])\n",
    "        else:\n",
    "            license = 'no license found'\n",
    "        institution = data[\"item\"][\"institution\"][\"name\"]\n",
    "        if not institution:\n",
    "            print(key,\"empty institution\")\n",
    "\n",
    "        isdigitalisat = data[\"item\"][\"fields\"][1]\n",
    "        isdigitalisatbool= False\n",
    "        if isdigitalisat[\"@usage\"]=='index':\n",
    "            for fielddict in isdigitalisat[\"field\"]:\n",
    "                if fielddict[\"@id\"]=='digitalisat':\n",
    "                    isdigitalisatbool=True\n",
    "        else:\n",
    "            print(\"List[1] not index\")\n",
    "        dictTopd[\"label\"].append(label)    \n",
    "        dictTopd[\"origin\"].append(origin)\n",
    "        dictTopd[\"license\"].append(license)\n",
    "        dictTopd[\"institution\"].append(institution)\n",
    "        dictTopd[\"isdigitalisat\"].append(isdigitalisatbool)\n",
    "        "
   ]
  },
  {
   "cell_type": "code",
   "execution_count": null,
   "id": "driving-custody",
   "metadata": {},
   "outputs": [],
   "source": [
    "dumpjson('dictopd', dictTopd)"
   ]
  },
  {
   "cell_type": "code",
   "execution_count": null,
   "id": "rental-collector",
   "metadata": {},
   "outputs": [],
   "source": [
    "pd_cf = pd.DataFrame.from_dict(dictTopd)"
   ]
  },
  {
   "cell_type": "code",
   "execution_count": null,
   "id": "skilled-danish",
   "metadata": {},
   "outputs": [],
   "source": [
    "pd_cf"
   ]
  },
  {
   "cell_type": "code",
   "execution_count": null,
   "id": "renewable-paradise",
   "metadata": {},
   "outputs": [],
   "source": [
    "pd_cf.to_excel('pd_list.xlsx')\n"
   ]
  }
 ],
 "metadata": {
  "kernelspec": {
   "display_name": "Python 3",
   "language": "python",
   "name": "python3"
  },
  "language_info": {
   "codemirror_mode": {
    "name": "ipython",
    "version": 3
   },
   "file_extension": ".py",
   "mimetype": "text/x-python",
   "name": "python",
   "nbconvert_exporter": "python",
   "pygments_lexer": "ipython3",
   "version": "3.9.9"
  }
 },
 "nbformat": 4,
 "nbformat_minor": 5
}
